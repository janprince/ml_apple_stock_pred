{
  "nbformat": 4,
  "nbformat_minor": 0,
  "metadata": {
    "colab": {
      "name": "Apple Stock Price Prediction.ipynb",
      "provenance": [],
      "collapsed_sections": [],
      "mount_file_id": "1TwV132N5RUc4Wzz3e8rOKyjifYDVc7s2",
      "authorship_tag": "ABX9TyPiUN8GAc4n3Nc7l+m7t8+g",
      "include_colab_link": true
    },
    "kernelspec": {
      "name": "python3",
      "display_name": "Python 3"
    },
    "language_info": {
      "name": "python"
    }
  },
  "cells": [
    {
      "cell_type": "markdown",
      "metadata": {
        "id": "view-in-github",
        "colab_type": "text"
      },
      "source": [
        "<a href=\"https://colab.research.google.com/github/janprince/ml_apple_stock_pred/blob/main/Apple_Stock_Price_Prediction.ipynb\" target=\"_parent\"><img src=\"https://colab.research.google.com/assets/colab-badge.svg\" alt=\"Open In Colab\"/></a>"
      ]
    },
    {
      "cell_type": "markdown",
      "source": [
        "# Stock Price Prediction"
      ],
      "metadata": {
        "id": "f5LR8_gaCu8y"
      }
    },
    {
      "cell_type": "markdown",
      "source": [
        "## Importing Data"
      ],
      "metadata": {
        "id": "uB0wafYxC0pB"
      }
    },
    {
      "cell_type": "code",
      "execution_count": 1,
      "metadata": {
        "id": "0wbjw2vYCUCu"
      },
      "outputs": [],
      "source": [
        "import pandas as pd\n",
        "\n",
        "data = pd.read_csv(\"https://query1.finance.yahoo.com/v7/finance/download/AAPL?period1=1138233600&period2=1650931200&interval=1d&events=history&includeAdjustedClose=true\")"
      ]
    },
    {
      "cell_type": "markdown",
      "source": [
        "## Exploratory Data Analysis"
      ],
      "metadata": {
        "id": "YOl0aKvZDWEn"
      }
    },
    {
      "cell_type": "markdown",
      "source": [
        "### Numerical EDA"
      ],
      "metadata": {
        "id": "YEdFwxbrDkdb"
      }
    },
    {
      "cell_type": "code",
      "source": [
        "data.head()"
      ],
      "metadata": {
        "colab": {
          "base_uri": "https://localhost:8080/",
          "height": 206
        },
        "id": "aKJUOgmoDQWh",
        "outputId": "bc75be3a-32b8-402e-ab9c-531c6ddf13b1"
      },
      "execution_count": 2,
      "outputs": [
        {
          "output_type": "execute_result",
          "data": {
            "text/plain": [
              "         Date      Open      High       Low     Close  Adj Close      Volume\n",
              "0  2006-01-26  2.661786  2.693929  2.568929  2.583214   2.211939  1181387200\n",
              "1  2006-01-27  2.605357  2.628571  2.539286  2.572500   2.202766   953864800\n",
              "2  2006-01-30  2.541786  2.735714  2.531071  2.678571   2.293591  1398401200\n",
              "3  2006-01-31  2.696429  2.726429  2.633929  2.696786   2.309188   913542000\n",
              "4  2006-02-01  2.676786  2.730714  2.665714  2.693571   2.306435   521186400"
            ],
            "text/html": [
              "\n",
              "  <div id=\"df-f5cd763e-0f01-4736-90f5-dcb74e3ed3a4\">\n",
              "    <div class=\"colab-df-container\">\n",
              "      <div>\n",
              "<style scoped>\n",
              "    .dataframe tbody tr th:only-of-type {\n",
              "        vertical-align: middle;\n",
              "    }\n",
              "\n",
              "    .dataframe tbody tr th {\n",
              "        vertical-align: top;\n",
              "    }\n",
              "\n",
              "    .dataframe thead th {\n",
              "        text-align: right;\n",
              "    }\n",
              "</style>\n",
              "<table border=\"1\" class=\"dataframe\">\n",
              "  <thead>\n",
              "    <tr style=\"text-align: right;\">\n",
              "      <th></th>\n",
              "      <th>Date</th>\n",
              "      <th>Open</th>\n",
              "      <th>High</th>\n",
              "      <th>Low</th>\n",
              "      <th>Close</th>\n",
              "      <th>Adj Close</th>\n",
              "      <th>Volume</th>\n",
              "    </tr>\n",
              "  </thead>\n",
              "  <tbody>\n",
              "    <tr>\n",
              "      <th>0</th>\n",
              "      <td>2006-01-26</td>\n",
              "      <td>2.661786</td>\n",
              "      <td>2.693929</td>\n",
              "      <td>2.568929</td>\n",
              "      <td>2.583214</td>\n",
              "      <td>2.211939</td>\n",
              "      <td>1181387200</td>\n",
              "    </tr>\n",
              "    <tr>\n",
              "      <th>1</th>\n",
              "      <td>2006-01-27</td>\n",
              "      <td>2.605357</td>\n",
              "      <td>2.628571</td>\n",
              "      <td>2.539286</td>\n",
              "      <td>2.572500</td>\n",
              "      <td>2.202766</td>\n",
              "      <td>953864800</td>\n",
              "    </tr>\n",
              "    <tr>\n",
              "      <th>2</th>\n",
              "      <td>2006-01-30</td>\n",
              "      <td>2.541786</td>\n",
              "      <td>2.735714</td>\n",
              "      <td>2.531071</td>\n",
              "      <td>2.678571</td>\n",
              "      <td>2.293591</td>\n",
              "      <td>1398401200</td>\n",
              "    </tr>\n",
              "    <tr>\n",
              "      <th>3</th>\n",
              "      <td>2006-01-31</td>\n",
              "      <td>2.696429</td>\n",
              "      <td>2.726429</td>\n",
              "      <td>2.633929</td>\n",
              "      <td>2.696786</td>\n",
              "      <td>2.309188</td>\n",
              "      <td>913542000</td>\n",
              "    </tr>\n",
              "    <tr>\n",
              "      <th>4</th>\n",
              "      <td>2006-02-01</td>\n",
              "      <td>2.676786</td>\n",
              "      <td>2.730714</td>\n",
              "      <td>2.665714</td>\n",
              "      <td>2.693571</td>\n",
              "      <td>2.306435</td>\n",
              "      <td>521186400</td>\n",
              "    </tr>\n",
              "  </tbody>\n",
              "</table>\n",
              "</div>\n",
              "      <button class=\"colab-df-convert\" onclick=\"convertToInteractive('df-f5cd763e-0f01-4736-90f5-dcb74e3ed3a4')\"\n",
              "              title=\"Convert this dataframe to an interactive table.\"\n",
              "              style=\"display:none;\">\n",
              "        \n",
              "  <svg xmlns=\"http://www.w3.org/2000/svg\" height=\"24px\"viewBox=\"0 0 24 24\"\n",
              "       width=\"24px\">\n",
              "    <path d=\"M0 0h24v24H0V0z\" fill=\"none\"/>\n",
              "    <path d=\"M18.56 5.44l.94 2.06.94-2.06 2.06-.94-2.06-.94-.94-2.06-.94 2.06-2.06.94zm-11 1L8.5 8.5l.94-2.06 2.06-.94-2.06-.94L8.5 2.5l-.94 2.06-2.06.94zm10 10l.94 2.06.94-2.06 2.06-.94-2.06-.94-.94-2.06-.94 2.06-2.06.94z\"/><path d=\"M17.41 7.96l-1.37-1.37c-.4-.4-.92-.59-1.43-.59-.52 0-1.04.2-1.43.59L10.3 9.45l-7.72 7.72c-.78.78-.78 2.05 0 2.83L4 21.41c.39.39.9.59 1.41.59.51 0 1.02-.2 1.41-.59l7.78-7.78 2.81-2.81c.8-.78.8-2.07 0-2.86zM5.41 20L4 18.59l7.72-7.72 1.47 1.35L5.41 20z\"/>\n",
              "  </svg>\n",
              "      </button>\n",
              "      \n",
              "  <style>\n",
              "    .colab-df-container {\n",
              "      display:flex;\n",
              "      flex-wrap:wrap;\n",
              "      gap: 12px;\n",
              "    }\n",
              "\n",
              "    .colab-df-convert {\n",
              "      background-color: #E8F0FE;\n",
              "      border: none;\n",
              "      border-radius: 50%;\n",
              "      cursor: pointer;\n",
              "      display: none;\n",
              "      fill: #1967D2;\n",
              "      height: 32px;\n",
              "      padding: 0 0 0 0;\n",
              "      width: 32px;\n",
              "    }\n",
              "\n",
              "    .colab-df-convert:hover {\n",
              "      background-color: #E2EBFA;\n",
              "      box-shadow: 0px 1px 2px rgba(60, 64, 67, 0.3), 0px 1px 3px 1px rgba(60, 64, 67, 0.15);\n",
              "      fill: #174EA6;\n",
              "    }\n",
              "\n",
              "    [theme=dark] .colab-df-convert {\n",
              "      background-color: #3B4455;\n",
              "      fill: #D2E3FC;\n",
              "    }\n",
              "\n",
              "    [theme=dark] .colab-df-convert:hover {\n",
              "      background-color: #434B5C;\n",
              "      box-shadow: 0px 1px 3px 1px rgba(0, 0, 0, 0.15);\n",
              "      filter: drop-shadow(0px 1px 2px rgba(0, 0, 0, 0.3));\n",
              "      fill: #FFFFFF;\n",
              "    }\n",
              "  </style>\n",
              "\n",
              "      <script>\n",
              "        const buttonEl =\n",
              "          document.querySelector('#df-f5cd763e-0f01-4736-90f5-dcb74e3ed3a4 button.colab-df-convert');\n",
              "        buttonEl.style.display =\n",
              "          google.colab.kernel.accessAllowed ? 'block' : 'none';\n",
              "\n",
              "        async function convertToInteractive(key) {\n",
              "          const element = document.querySelector('#df-f5cd763e-0f01-4736-90f5-dcb74e3ed3a4');\n",
              "          const dataTable =\n",
              "            await google.colab.kernel.invokeFunction('convertToInteractive',\n",
              "                                                     [key], {});\n",
              "          if (!dataTable) return;\n",
              "\n",
              "          const docLinkHtml = 'Like what you see? Visit the ' +\n",
              "            '<a target=\"_blank\" href=https://colab.research.google.com/notebooks/data_table.ipynb>data table notebook</a>'\n",
              "            + ' to learn more about interactive tables.';\n",
              "          element.innerHTML = '';\n",
              "          dataTable['output_type'] = 'display_data';\n",
              "          await google.colab.output.renderOutput(dataTable, element);\n",
              "          const docLink = document.createElement('div');\n",
              "          docLink.innerHTML = docLinkHtml;\n",
              "          element.appendChild(docLink);\n",
              "        }\n",
              "      </script>\n",
              "    </div>\n",
              "  </div>\n",
              "  "
            ]
          },
          "metadata": {},
          "execution_count": 2
        }
      ]
    },
    {
      "cell_type": "code",
      "source": [
        "data.tail()"
      ],
      "metadata": {
        "colab": {
          "base_uri": "https://localhost:8080/",
          "height": 206
        },
        "id": "R2cCYpJ-DxOj",
        "outputId": "8482514f-9b05-4793-9348-4dedb8545fce"
      },
      "execution_count": 3,
      "outputs": [
        {
          "output_type": "execute_result",
          "data": {
            "text/plain": [
              "            Date        Open        High         Low       Close   Adj Close  \\\n",
              "4085  2022-04-19  165.020004  167.820007  163.910004  167.399994  167.399994   \n",
              "4086  2022-04-20  168.759995  168.880005  166.100006  167.229996  167.229996   \n",
              "4087  2022-04-21  168.910004  171.529999  165.910004  166.419998  166.419998   \n",
              "4088  2022-04-22  166.460007  167.869995  161.500000  161.789993  161.789993   \n",
              "4089  2022-04-25  161.119995  163.169998  158.460007  162.880005  162.880005   \n",
              "\n",
              "        Volume  \n",
              "4085  67723800  \n",
              "4086  67929800  \n",
              "4087  87227800  \n",
              "4088  84882400  \n",
              "4089  96046400  "
            ],
            "text/html": [
              "\n",
              "  <div id=\"df-1260e526-fffb-4109-8bb7-dca1e3943dfa\">\n",
              "    <div class=\"colab-df-container\">\n",
              "      <div>\n",
              "<style scoped>\n",
              "    .dataframe tbody tr th:only-of-type {\n",
              "        vertical-align: middle;\n",
              "    }\n",
              "\n",
              "    .dataframe tbody tr th {\n",
              "        vertical-align: top;\n",
              "    }\n",
              "\n",
              "    .dataframe thead th {\n",
              "        text-align: right;\n",
              "    }\n",
              "</style>\n",
              "<table border=\"1\" class=\"dataframe\">\n",
              "  <thead>\n",
              "    <tr style=\"text-align: right;\">\n",
              "      <th></th>\n",
              "      <th>Date</th>\n",
              "      <th>Open</th>\n",
              "      <th>High</th>\n",
              "      <th>Low</th>\n",
              "      <th>Close</th>\n",
              "      <th>Adj Close</th>\n",
              "      <th>Volume</th>\n",
              "    </tr>\n",
              "  </thead>\n",
              "  <tbody>\n",
              "    <tr>\n",
              "      <th>4085</th>\n",
              "      <td>2022-04-19</td>\n",
              "      <td>165.020004</td>\n",
              "      <td>167.820007</td>\n",
              "      <td>163.910004</td>\n",
              "      <td>167.399994</td>\n",
              "      <td>167.399994</td>\n",
              "      <td>67723800</td>\n",
              "    </tr>\n",
              "    <tr>\n",
              "      <th>4086</th>\n",
              "      <td>2022-04-20</td>\n",
              "      <td>168.759995</td>\n",
              "      <td>168.880005</td>\n",
              "      <td>166.100006</td>\n",
              "      <td>167.229996</td>\n",
              "      <td>167.229996</td>\n",
              "      <td>67929800</td>\n",
              "    </tr>\n",
              "    <tr>\n",
              "      <th>4087</th>\n",
              "      <td>2022-04-21</td>\n",
              "      <td>168.910004</td>\n",
              "      <td>171.529999</td>\n",
              "      <td>165.910004</td>\n",
              "      <td>166.419998</td>\n",
              "      <td>166.419998</td>\n",
              "      <td>87227800</td>\n",
              "    </tr>\n",
              "    <tr>\n",
              "      <th>4088</th>\n",
              "      <td>2022-04-22</td>\n",
              "      <td>166.460007</td>\n",
              "      <td>167.869995</td>\n",
              "      <td>161.500000</td>\n",
              "      <td>161.789993</td>\n",
              "      <td>161.789993</td>\n",
              "      <td>84882400</td>\n",
              "    </tr>\n",
              "    <tr>\n",
              "      <th>4089</th>\n",
              "      <td>2022-04-25</td>\n",
              "      <td>161.119995</td>\n",
              "      <td>163.169998</td>\n",
              "      <td>158.460007</td>\n",
              "      <td>162.880005</td>\n",
              "      <td>162.880005</td>\n",
              "      <td>96046400</td>\n",
              "    </tr>\n",
              "  </tbody>\n",
              "</table>\n",
              "</div>\n",
              "      <button class=\"colab-df-convert\" onclick=\"convertToInteractive('df-1260e526-fffb-4109-8bb7-dca1e3943dfa')\"\n",
              "              title=\"Convert this dataframe to an interactive table.\"\n",
              "              style=\"display:none;\">\n",
              "        \n",
              "  <svg xmlns=\"http://www.w3.org/2000/svg\" height=\"24px\"viewBox=\"0 0 24 24\"\n",
              "       width=\"24px\">\n",
              "    <path d=\"M0 0h24v24H0V0z\" fill=\"none\"/>\n",
              "    <path d=\"M18.56 5.44l.94 2.06.94-2.06 2.06-.94-2.06-.94-.94-2.06-.94 2.06-2.06.94zm-11 1L8.5 8.5l.94-2.06 2.06-.94-2.06-.94L8.5 2.5l-.94 2.06-2.06.94zm10 10l.94 2.06.94-2.06 2.06-.94-2.06-.94-.94-2.06-.94 2.06-2.06.94z\"/><path d=\"M17.41 7.96l-1.37-1.37c-.4-.4-.92-.59-1.43-.59-.52 0-1.04.2-1.43.59L10.3 9.45l-7.72 7.72c-.78.78-.78 2.05 0 2.83L4 21.41c.39.39.9.59 1.41.59.51 0 1.02-.2 1.41-.59l7.78-7.78 2.81-2.81c.8-.78.8-2.07 0-2.86zM5.41 20L4 18.59l7.72-7.72 1.47 1.35L5.41 20z\"/>\n",
              "  </svg>\n",
              "      </button>\n",
              "      \n",
              "  <style>\n",
              "    .colab-df-container {\n",
              "      display:flex;\n",
              "      flex-wrap:wrap;\n",
              "      gap: 12px;\n",
              "    }\n",
              "\n",
              "    .colab-df-convert {\n",
              "      background-color: #E8F0FE;\n",
              "      border: none;\n",
              "      border-radius: 50%;\n",
              "      cursor: pointer;\n",
              "      display: none;\n",
              "      fill: #1967D2;\n",
              "      height: 32px;\n",
              "      padding: 0 0 0 0;\n",
              "      width: 32px;\n",
              "    }\n",
              "\n",
              "    .colab-df-convert:hover {\n",
              "      background-color: #E2EBFA;\n",
              "      box-shadow: 0px 1px 2px rgba(60, 64, 67, 0.3), 0px 1px 3px 1px rgba(60, 64, 67, 0.15);\n",
              "      fill: #174EA6;\n",
              "    }\n",
              "\n",
              "    [theme=dark] .colab-df-convert {\n",
              "      background-color: #3B4455;\n",
              "      fill: #D2E3FC;\n",
              "    }\n",
              "\n",
              "    [theme=dark] .colab-df-convert:hover {\n",
              "      background-color: #434B5C;\n",
              "      box-shadow: 0px 1px 3px 1px rgba(0, 0, 0, 0.15);\n",
              "      filter: drop-shadow(0px 1px 2px rgba(0, 0, 0, 0.3));\n",
              "      fill: #FFFFFF;\n",
              "    }\n",
              "  </style>\n",
              "\n",
              "      <script>\n",
              "        const buttonEl =\n",
              "          document.querySelector('#df-1260e526-fffb-4109-8bb7-dca1e3943dfa button.colab-df-convert');\n",
              "        buttonEl.style.display =\n",
              "          google.colab.kernel.accessAllowed ? 'block' : 'none';\n",
              "\n",
              "        async function convertToInteractive(key) {\n",
              "          const element = document.querySelector('#df-1260e526-fffb-4109-8bb7-dca1e3943dfa');\n",
              "          const dataTable =\n",
              "            await google.colab.kernel.invokeFunction('convertToInteractive',\n",
              "                                                     [key], {});\n",
              "          if (!dataTable) return;\n",
              "\n",
              "          const docLinkHtml = 'Like what you see? Visit the ' +\n",
              "            '<a target=\"_blank\" href=https://colab.research.google.com/notebooks/data_table.ipynb>data table notebook</a>'\n",
              "            + ' to learn more about interactive tables.';\n",
              "          element.innerHTML = '';\n",
              "          dataTable['output_type'] = 'display_data';\n",
              "          await google.colab.output.renderOutput(dataTable, element);\n",
              "          const docLink = document.createElement('div');\n",
              "          docLink.innerHTML = docLinkHtml;\n",
              "          element.appendChild(docLink);\n",
              "        }\n",
              "      </script>\n",
              "    </div>\n",
              "  </div>\n",
              "  "
            ]
          },
          "metadata": {},
          "execution_count": 3
        }
      ]
    },
    {
      "cell_type": "code",
      "source": [
        "data.describe()"
      ],
      "metadata": {
        "colab": {
          "base_uri": "https://localhost:8080/",
          "height": 300
        },
        "id": "wL-HJKWiD1Aj",
        "outputId": "f637a1cc-632d-4bbc-f8ef-3e4698b109ca"
      },
      "execution_count": 4,
      "outputs": [
        {
          "output_type": "execute_result",
          "data": {
            "text/plain": [
              "              Open         High          Low        Close    Adj Close  \\\n",
              "count  4090.000000  4090.000000  4090.000000  4090.000000  4090.000000   \n",
              "mean     35.810824    36.195078    35.427702    35.826658    34.355608   \n",
              "std      40.985785    41.465507    40.519372    41.014072    41.228086   \n",
              "min       1.847500     1.888929     1.791429     1.809643     1.549551   \n",
              "25%       7.540268     7.599643     7.446250     7.523750     6.442393   \n",
              "50%      22.376964    22.609108    22.232322    22.398214    19.361637   \n",
              "75%      43.009376    43.358125    42.600000    42.996251    41.346451   \n",
              "max     182.630005   182.940002   179.119995   182.009995   181.778397   \n",
              "\n",
              "             Volume  \n",
              "count  4.090000e+03  \n",
              "mean   4.151858e+08  \n",
              "std    3.899429e+08  \n",
              "min    4.100000e+07  \n",
              "25%    1.245816e+08  \n",
              "50%    2.773608e+08  \n",
              "75%    5.940270e+08  \n",
              "max    3.372970e+09  "
            ],
            "text/html": [
              "\n",
              "  <div id=\"df-79a5db37-199b-4beb-8e98-715a0769ae36\">\n",
              "    <div class=\"colab-df-container\">\n",
              "      <div>\n",
              "<style scoped>\n",
              "    .dataframe tbody tr th:only-of-type {\n",
              "        vertical-align: middle;\n",
              "    }\n",
              "\n",
              "    .dataframe tbody tr th {\n",
              "        vertical-align: top;\n",
              "    }\n",
              "\n",
              "    .dataframe thead th {\n",
              "        text-align: right;\n",
              "    }\n",
              "</style>\n",
              "<table border=\"1\" class=\"dataframe\">\n",
              "  <thead>\n",
              "    <tr style=\"text-align: right;\">\n",
              "      <th></th>\n",
              "      <th>Open</th>\n",
              "      <th>High</th>\n",
              "      <th>Low</th>\n",
              "      <th>Close</th>\n",
              "      <th>Adj Close</th>\n",
              "      <th>Volume</th>\n",
              "    </tr>\n",
              "  </thead>\n",
              "  <tbody>\n",
              "    <tr>\n",
              "      <th>count</th>\n",
              "      <td>4090.000000</td>\n",
              "      <td>4090.000000</td>\n",
              "      <td>4090.000000</td>\n",
              "      <td>4090.000000</td>\n",
              "      <td>4090.000000</td>\n",
              "      <td>4.090000e+03</td>\n",
              "    </tr>\n",
              "    <tr>\n",
              "      <th>mean</th>\n",
              "      <td>35.810824</td>\n",
              "      <td>36.195078</td>\n",
              "      <td>35.427702</td>\n",
              "      <td>35.826658</td>\n",
              "      <td>34.355608</td>\n",
              "      <td>4.151858e+08</td>\n",
              "    </tr>\n",
              "    <tr>\n",
              "      <th>std</th>\n",
              "      <td>40.985785</td>\n",
              "      <td>41.465507</td>\n",
              "      <td>40.519372</td>\n",
              "      <td>41.014072</td>\n",
              "      <td>41.228086</td>\n",
              "      <td>3.899429e+08</td>\n",
              "    </tr>\n",
              "    <tr>\n",
              "      <th>min</th>\n",
              "      <td>1.847500</td>\n",
              "      <td>1.888929</td>\n",
              "      <td>1.791429</td>\n",
              "      <td>1.809643</td>\n",
              "      <td>1.549551</td>\n",
              "      <td>4.100000e+07</td>\n",
              "    </tr>\n",
              "    <tr>\n",
              "      <th>25%</th>\n",
              "      <td>7.540268</td>\n",
              "      <td>7.599643</td>\n",
              "      <td>7.446250</td>\n",
              "      <td>7.523750</td>\n",
              "      <td>6.442393</td>\n",
              "      <td>1.245816e+08</td>\n",
              "    </tr>\n",
              "    <tr>\n",
              "      <th>50%</th>\n",
              "      <td>22.376964</td>\n",
              "      <td>22.609108</td>\n",
              "      <td>22.232322</td>\n",
              "      <td>22.398214</td>\n",
              "      <td>19.361637</td>\n",
              "      <td>2.773608e+08</td>\n",
              "    </tr>\n",
              "    <tr>\n",
              "      <th>75%</th>\n",
              "      <td>43.009376</td>\n",
              "      <td>43.358125</td>\n",
              "      <td>42.600000</td>\n",
              "      <td>42.996251</td>\n",
              "      <td>41.346451</td>\n",
              "      <td>5.940270e+08</td>\n",
              "    </tr>\n",
              "    <tr>\n",
              "      <th>max</th>\n",
              "      <td>182.630005</td>\n",
              "      <td>182.940002</td>\n",
              "      <td>179.119995</td>\n",
              "      <td>182.009995</td>\n",
              "      <td>181.778397</td>\n",
              "      <td>3.372970e+09</td>\n",
              "    </tr>\n",
              "  </tbody>\n",
              "</table>\n",
              "</div>\n",
              "      <button class=\"colab-df-convert\" onclick=\"convertToInteractive('df-79a5db37-199b-4beb-8e98-715a0769ae36')\"\n",
              "              title=\"Convert this dataframe to an interactive table.\"\n",
              "              style=\"display:none;\">\n",
              "        \n",
              "  <svg xmlns=\"http://www.w3.org/2000/svg\" height=\"24px\"viewBox=\"0 0 24 24\"\n",
              "       width=\"24px\">\n",
              "    <path d=\"M0 0h24v24H0V0z\" fill=\"none\"/>\n",
              "    <path d=\"M18.56 5.44l.94 2.06.94-2.06 2.06-.94-2.06-.94-.94-2.06-.94 2.06-2.06.94zm-11 1L8.5 8.5l.94-2.06 2.06-.94-2.06-.94L8.5 2.5l-.94 2.06-2.06.94zm10 10l.94 2.06.94-2.06 2.06-.94-2.06-.94-.94-2.06-.94 2.06-2.06.94z\"/><path d=\"M17.41 7.96l-1.37-1.37c-.4-.4-.92-.59-1.43-.59-.52 0-1.04.2-1.43.59L10.3 9.45l-7.72 7.72c-.78.78-.78 2.05 0 2.83L4 21.41c.39.39.9.59 1.41.59.51 0 1.02-.2 1.41-.59l7.78-7.78 2.81-2.81c.8-.78.8-2.07 0-2.86zM5.41 20L4 18.59l7.72-7.72 1.47 1.35L5.41 20z\"/>\n",
              "  </svg>\n",
              "      </button>\n",
              "      \n",
              "  <style>\n",
              "    .colab-df-container {\n",
              "      display:flex;\n",
              "      flex-wrap:wrap;\n",
              "      gap: 12px;\n",
              "    }\n",
              "\n",
              "    .colab-df-convert {\n",
              "      background-color: #E8F0FE;\n",
              "      border: none;\n",
              "      border-radius: 50%;\n",
              "      cursor: pointer;\n",
              "      display: none;\n",
              "      fill: #1967D2;\n",
              "      height: 32px;\n",
              "      padding: 0 0 0 0;\n",
              "      width: 32px;\n",
              "    }\n",
              "\n",
              "    .colab-df-convert:hover {\n",
              "      background-color: #E2EBFA;\n",
              "      box-shadow: 0px 1px 2px rgba(60, 64, 67, 0.3), 0px 1px 3px 1px rgba(60, 64, 67, 0.15);\n",
              "      fill: #174EA6;\n",
              "    }\n",
              "\n",
              "    [theme=dark] .colab-df-convert {\n",
              "      background-color: #3B4455;\n",
              "      fill: #D2E3FC;\n",
              "    }\n",
              "\n",
              "    [theme=dark] .colab-df-convert:hover {\n",
              "      background-color: #434B5C;\n",
              "      box-shadow: 0px 1px 3px 1px rgba(0, 0, 0, 0.15);\n",
              "      filter: drop-shadow(0px 1px 2px rgba(0, 0, 0, 0.3));\n",
              "      fill: #FFFFFF;\n",
              "    }\n",
              "  </style>\n",
              "\n",
              "      <script>\n",
              "        const buttonEl =\n",
              "          document.querySelector('#df-79a5db37-199b-4beb-8e98-715a0769ae36 button.colab-df-convert');\n",
              "        buttonEl.style.display =\n",
              "          google.colab.kernel.accessAllowed ? 'block' : 'none';\n",
              "\n",
              "        async function convertToInteractive(key) {\n",
              "          const element = document.querySelector('#df-79a5db37-199b-4beb-8e98-715a0769ae36');\n",
              "          const dataTable =\n",
              "            await google.colab.kernel.invokeFunction('convertToInteractive',\n",
              "                                                     [key], {});\n",
              "          if (!dataTable) return;\n",
              "\n",
              "          const docLinkHtml = 'Like what you see? Visit the ' +\n",
              "            '<a target=\"_blank\" href=https://colab.research.google.com/notebooks/data_table.ipynb>data table notebook</a>'\n",
              "            + ' to learn more about interactive tables.';\n",
              "          element.innerHTML = '';\n",
              "          dataTable['output_type'] = 'display_data';\n",
              "          await google.colab.output.renderOutput(dataTable, element);\n",
              "          const docLink = document.createElement('div');\n",
              "          docLink.innerHTML = docLinkHtml;\n",
              "          element.appendChild(docLink);\n",
              "        }\n",
              "      </script>\n",
              "    </div>\n",
              "  </div>\n",
              "  "
            ]
          },
          "metadata": {},
          "execution_count": 4
        }
      ]
    },
    {
      "cell_type": "code",
      "source": [
        "data.info()"
      ],
      "metadata": {
        "colab": {
          "base_uri": "https://localhost:8080/"
        },
        "id": "O0QoRaPHEBmq",
        "outputId": "a49ab976-0657-4f2d-8e1a-18716f168611"
      },
      "execution_count": 2,
      "outputs": [
        {
          "output_type": "stream",
          "name": "stdout",
          "text": [
            "<class 'pandas.core.frame.DataFrame'>\n",
            "RangeIndex: 4090 entries, 0 to 4089\n",
            "Data columns (total 7 columns):\n",
            " #   Column     Non-Null Count  Dtype  \n",
            "---  ------     --------------  -----  \n",
            " 0   Date       4090 non-null   object \n",
            " 1   Open       4090 non-null   float64\n",
            " 2   High       4090 non-null   float64\n",
            " 3   Low        4090 non-null   float64\n",
            " 4   Close      4090 non-null   float64\n",
            " 5   Adj Close  4090 non-null   float64\n",
            " 6   Volume     4090 non-null   int64  \n",
            "dtypes: float64(5), int64(1), object(1)\n",
            "memory usage: 223.8+ KB\n"
          ]
        }
      ]
    },
    {
      "cell_type": "code",
      "source": [
        "data.shape"
      ],
      "metadata": {
        "colab": {
          "base_uri": "https://localhost:8080/"
        },
        "id": "hiXOl846F-bL",
        "outputId": "83d0e5e9-bec6-41a6-c534-745574c464ae"
      },
      "execution_count": 6,
      "outputs": [
        {
          "output_type": "execute_result",
          "data": {
            "text/plain": [
              "(4090, 7)"
            ]
          },
          "metadata": {},
          "execution_count": 6
        }
      ]
    },
    {
      "cell_type": "code",
      "source": [
        "data.dtypes"
      ],
      "metadata": {
        "colab": {
          "base_uri": "https://localhost:8080/"
        },
        "id": "GXJO8bxjGIB8",
        "outputId": "4adf6d37-1f62-4485-e198-84d5095adeff"
      },
      "execution_count": 7,
      "outputs": [
        {
          "output_type": "execute_result",
          "data": {
            "text/plain": [
              "Date          object\n",
              "Open         float64\n",
              "High         float64\n",
              "Low          float64\n",
              "Close        float64\n",
              "Adj Close    float64\n",
              "Volume         int64\n",
              "dtype: object"
            ]
          },
          "metadata": {},
          "execution_count": 7
        }
      ]
    },
    {
      "cell_type": "code",
      "source": [
        "# date format\n",
        "# df[\"Date\"]=pd.to_datetime(df.Date,format=\"%Y-%m-%d\")\n",
        "\n",
        "# set 'date' as index\n",
        "data = data.set_index(\"Date\")\n"
      ],
      "metadata": {
        "id": "2h54ccgHK9X_"
      },
      "execution_count": 3,
      "outputs": []
    },
    {
      "cell_type": "code",
      "source": [
        "data = data[3700:]\n",
        "data"
      ],
      "metadata": {
        "id": "G1sQe7OUouHc"
      },
      "execution_count": null,
      "outputs": []
    },
    {
      "cell_type": "markdown",
      "source": [
        "### Visual EDA"
      ],
      "metadata": {
        "id": "v3j6bpNslY47"
      }
    },
    {
      "cell_type": "code",
      "source": [
        "import matplotlib\n",
        "import matplotlib.pyplot as plt\n",
        "\n",
        "data['Open'].plot( figsize=(16, 8), c=\"red\")\n",
        "data['Close'].plot(c='yellow')\n",
        "\n",
        "# Define the label for the title of the figure\n",
        "plt.title(\"Open and Close Price for APPL\")\n",
        "\n",
        "# Define labels for x-axis and y-axis\n",
        "plt.xlabel(\"Date\")\n",
        "plt.ylabel(\"Price\")\n",
        "\n",
        "# Show legends\n",
        "plt.legend()\n",
        "\n",
        "# Plot the grid lines\n",
        "plt.grid(which=\"major\", color='k', linestyle='-.', linewidth=0.5)\n",
        "\n",
        "# Show the plot\n",
        "plt.show()"
      ],
      "metadata": {
        "colab": {
          "base_uri": "https://localhost:8080/",
          "height": 513
        },
        "id": "Ek9AgjhTEnWi",
        "outputId": "93e58df9-dee0-4fdc-a9e4-e704b5f3acc7"
      },
      "execution_count": 9,
      "outputs": [
        {
          "output_type": "display_data",
          "data": {
            "text/plain": [
              "<Figure size 1152x576 with 1 Axes>"
            ],
            "image/png": "[encoded data removed]"
          },
          "metadata": {
            "needs_background": "light"
          }
        }
      ]
    },
    {
      "cell_type": "code",
      "source": [
        "import matplotlib\n",
        "import matplotlib.pyplot as plt\n",
        "\n",
        "data['High'].plot( figsize=(16, 8))\n",
        "data['Low'].plot(c=\"orange\")\n",
        "\n",
        "# Define the label for the title of the figure\n",
        "plt.title(\"High and Low Price for APPL\")\n",
        "\n",
        "# Define labels for x-axis and y-axis\n",
        "plt.xlabel(\"Date\")\n",
        "plt.ylabel(\"Price\")\n",
        "\n",
        "# Show legends\n",
        "plt.legend()\n",
        "\n",
        "# Plot the grid lines\n",
        "plt.grid(which=\"major\", color='k', linestyle='-.', linewidth=0.5)\n",
        "\n",
        "# Show the plot\n",
        "plt.show()"
      ],
      "metadata": {
        "colab": {
          "base_uri": "https://localhost:8080/",
          "height": 513
        },
        "id": "fQ61RC8glVOh",
        "outputId": "71a8c727-825e-44aa-9380-40857ecc050e"
      },
      "execution_count": 10,
      "outputs": [
        {
          "output_type": "display_data",
          "data": {
            "text/plain": [
              "<Figure size 1152x576 with 1 Axes>"
            ],
            "image/png": "[encoded data removed]"
          },
          "metadata": {
            "needs_background": "light"
          }
        }
      ]
    },
    {
      "cell_type": "markdown",
      "source": [
        "## Preparing data for training"
      ],
      "metadata": {
        "id": "ITSeaNzasQL1"
      }
    },
    {
      "cell_type": "code",
      "source": [
        "from sklearn.model_selection import train_test_split\n",
        "\n",
        "X = data.drop(['Close', 'Volume', 'Adj Close'], axis=1)\n",
        "y = data['Close']\n",
        "\n",
        "X_train, X_test, y_train, y_test = train_test_split(X, y, test_size=0.01, shuffle=False)\n",
        "\n",
        "X.shape"
      ],
      "metadata": {
        "colab": {
          "base_uri": "https://localhost:8080/"
        },
        "id": "wbAmvOCGqCrr",
        "outputId": "3f66c3ff-f42a-4650-aff3-8330b263fbd2"
      },
      "execution_count": 22,
      "outputs": [
        {
          "output_type": "execute_result",
          "data": {
            "text/plain": [
              "(4090, 3)"
            ]
          },
          "metadata": {},
          "execution_count": 22
        }
      ]
    },
    {
      "cell_type": "markdown",
      "source": [
        "## Training a Linear Model"
      ],
      "metadata": {
        "id": "ygCY-AN4sigC"
      }
    },
    {
      "cell_type": "code",
      "source": [
        "from sklearn.linear_model import LinearRegression\n",
        "\n",
        "r = LinearRegression()\n",
        "\n",
        "r.fit(X_train, y_train)\n",
        "\n",
        "r.score(X_train, y_train)"
      ],
      "metadata": {
        "colab": {
          "base_uri": "https://localhost:8080/"
        },
        "id": "Y49IBFF-rhtQ",
        "outputId": "ff36192d-ce94-4bae-b6fb-2276e7dfca60"
      },
      "execution_count": 23,
      "outputs": [
        {
          "output_type": "execute_result",
          "data": {
            "text/plain": [
              "0.999908009752533"
            ]
          },
          "metadata": {},
          "execution_count": 23
        }
      ]
    },
    {
      "cell_type": "markdown",
      "source": [
        "### Cross-validation for performance evaluation"
      ],
      "metadata": {
        "id": "ssceNSZ-sn2u"
      }
    },
    {
      "cell_type": "code",
      "source": [
        "from sklearn.model_selection import cross_val_score\n",
        "\n",
        "scores = cross_val_score(r, X_train, y_train, cv=5)\n",
        "\n",
        "scores"
      ],
      "metadata": {
        "colab": {
          "base_uri": "https://localhost:8080/"
        },
        "id": "h1GqZLTnr5aj",
        "outputId": "6b99b98e-60e2-4e6a-82d4-c84080aa847a"
      },
      "execution_count": 24,
      "outputs": [
        {
          "output_type": "execute_result",
          "data": {
            "text/plain": [
              "array([0.99890492, 0.99968849, 0.99948625, 0.99958257, 0.99963693])"
            ]
          },
          "metadata": {},
          "execution_count": 24
        }
      ]
    },
    {
      "cell_type": "markdown",
      "source": [
        "### Evaluating on test set\n"
      ],
      "metadata": {
        "id": "yil6_13f7cfD"
      }
    },
    {
      "cell_type": "code",
      "source": [
        "y_pred = r.predict(X_test)\n",
        "\n",
        "y_pred"
      ],
      "metadata": {
        "colab": {
          "base_uri": "https://localhost:8080/"
        },
        "id": "QjzjIuCk7YaF",
        "outputId": "413d8a1b-6a33-4b69-9a73-98f6348b1ffa"
      },
      "execution_count": 25,
      "outputs": [
        {
          "output_type": "execute_result",
          "data": {
            "text/plain": [
              "array([162.56100411, 164.4755987 , 164.14148317, 165.73171126,\n",
              "       166.48892644, 163.4516406 , 161.40432262, 159.93940497,\n",
              "       161.44479721, 157.03761546, 155.75188917, 152.61123751,\n",
              "       154.43077767, 157.52258333, 159.79511427, 163.24612452,\n",
              "       165.44190354, 168.30024509, 171.61873851, 172.9315586 ,\n",
              "       174.07044948, 174.96834472, 178.26473725, 177.89966343,\n",
              "       175.2410885 , 173.02170764, 177.71026869, 175.70388373,\n",
              "       171.61604508, 171.91823972, 169.66480538, 166.40691396,\n",
              "       168.42344739, 169.9358994 , 166.83119445, 165.82374229,\n",
              "       166.4591495 , 166.69328137, 168.77427861, 163.80377674,\n",
              "       160.74895054])"
            ]
          },
          "metadata": {},
          "execution_count": 25
        }
      ]
    },
    {
      "cell_type": "code",
      "source": [
        "test_df = X_test\n",
        "test_df[\"Actual\"] = y_test\n",
        "test_df[\"Prediction\"] = y_pred\n",
        "\n",
        "test_df"
      ],
      "metadata": {
        "colab": {
          "base_uri": "https://localhost:8080/",
          "height": 1000
        },
        "id": "9IBZuSWF7pkz",
        "outputId": "f51d4bc5-350e-4bf1-a7db-4821e75257c5"
      },
      "execution_count": 26,
      "outputs": [
        {
          "output_type": "execute_result",
          "data": {
            "text/plain": [
              "                  Open        High         Low      Actual  Prediction\n",
              "Date                                                                  \n",
              "2022-02-25  163.839996  165.119995  160.869995  164.850006  162.561004\n",
              "2022-02-28  163.059998  165.419998  162.429993  165.119995  164.475599\n",
              "2022-03-01  164.699997  166.600006  161.970001  163.199997  164.141483\n",
              "2022-03-02  164.389999  167.360001  162.949997  166.559998  165.731711\n",
              "2022-03-03  168.470001  168.910004  165.550003  166.229996  166.488926\n",
              "2022-03-04  164.490005  165.550003  162.100006  163.169998  163.451641\n",
              "2022-03-07  163.360001  165.020004  159.039993  159.300003  161.404323\n",
              "2022-03-08  158.820007  162.880005  155.800003  157.440002  159.939405\n",
              "2022-03-09  161.479996  163.410004  159.410004  162.949997  161.444797\n",
              "2022-03-10  160.199997  160.389999  155.979996  158.520004  157.037615\n",
              "2022-03-11  158.929993  159.279999  154.500000  154.729996  155.751889\n",
              "2022-03-14  151.449997  154.119995  150.100006  150.619995  152.611238\n",
              "2022-03-15  150.899994  155.570007  150.380005  155.089996  154.430778\n",
              "2022-03-16  157.050003  160.000000  154.460007  159.589996  157.522583\n",
              "2022-03-17  158.610001  161.000000  157.630005  160.619995  159.795114\n",
              "2022-03-18  160.509995  164.479996  159.759995  163.979996  163.246125\n",
              "2022-03-21  163.509995  166.350006  163.009995  165.380005  165.441904\n",
              "2022-03-22  165.509995  169.419998  164.910004  168.820007  168.300245\n",
              "2022-03-23  167.990005  172.639999  167.649994  170.210007  171.618739\n",
              "2022-03-24  171.059998  174.139999  170.210007  174.070007  172.931559\n",
              "2022-03-25  173.880005  175.279999  172.750000  174.720001  174.070449\n",
              "2022-03-28  172.169998  175.729996  172.000000  175.600006  174.968345\n",
              "2022-03-29  176.690002  179.009995  176.339996  178.960007  178.264737\n",
              "2022-03-30  178.550003  179.610001  176.699997  177.770004  177.899663\n",
              "2022-03-31  177.839996  178.029999  174.399994  174.610001  175.241088\n",
              "2022-04-01  174.029999  174.880005  171.940002  174.309998  173.021708\n",
              "2022-04-04  174.570007  178.490005  174.440002  178.440002  177.710269\n",
              "2022-04-05  177.500000  178.300003  174.419998  175.059998  175.703884\n",
              "2022-04-06  172.360001  173.630005  170.130005  171.830002  171.616045\n",
              "2022-04-07  171.160004  173.360001  169.850006  172.139999  171.918240\n",
              "2022-04-08  171.779999  171.779999  169.199997  170.089996  169.664805\n",
              "2022-04-11  168.710007  169.029999  165.500000  165.750000  166.406914\n",
              "2022-04-12  168.020004  169.869995  166.639999  167.660004  168.423447\n",
              "2022-04-13  167.389999  171.039993  166.770004  170.399994  169.935899\n",
              "2022-04-14  170.619995  171.270004  165.039993  165.289993  166.831194\n",
              "2022-04-18  163.919998  166.600006  163.570007  165.070007  165.823742\n",
              "2022-04-19  165.020004  167.820007  163.910004  167.399994  166.459150\n",
              "2022-04-20  168.759995  168.880005  166.100006  167.229996  166.693281\n",
              "2022-04-21  168.910004  171.529999  165.910004  166.419998  168.774279\n",
              "2022-04-22  166.460007  167.869995  161.500000  161.789993  163.803777\n",
              "2022-04-25  161.119995  163.169998  158.460007  162.880005  160.748951"
            ],
            "text/html": [
              "\n",
              "  <div id=\"df-482d6e10-eac1-4708-9421-72e21a11d550\">\n",
              "    <div class=\"colab-df-container\">\n",
              "      <div>\n",
              "<style scoped>\n",
              "    .dataframe tbody tr th:only-of-type {\n",
              "        vertical-align: middle;\n",
              "    }\n",
              "\n",
              "    .dataframe tbody tr th {\n",
              "        vertical-align: top;\n",
              "    }\n",
              "\n",
              "    .dataframe thead th {\n",
              "        text-align: right;\n",
              "    }\n",
              "</style>\n",
              "<table border=\"1\" class=\"dataframe\">\n",
              "  <thead>\n",
              "    <tr style=\"text-align: right;\">\n",
              "      <th></th>\n",
              "      <th>Open</th>\n",
              "      <th>High</th>\n",
              "      <th>Low</th>\n",
              "      <th>Actual</th>\n",
              "      <th>Prediction</th>\n",
              "    </tr>\n",
              "    <tr>\n",
              "      <th>Date</th>\n",
              "      <th></th>\n",
              "      <th></th>\n",
              "      <th></th>\n",
              "      <th></th>\n",
              "      <th></th>\n",
              "    </tr>\n",
              "  </thead>\n",
              "  <tbody>\n",
              "    <tr>\n",
              "      <th>2022-02-25</th>\n",
              "      <td>163.839996</td>\n",
              "      <td>165.119995</td>\n",
              "      <td>160.869995</td>\n",
              "      <td>164.850006</td>\n",
              "      <td>162.561004</td>\n",
              "    </tr>\n",
              "    <tr>\n",
              "      <th>2022-02-28</th>\n",
              "      <td>163.059998</td>\n",
              "      <td>165.419998</td>\n",
              "      <td>162.429993</td>\n",
              "      <td>165.119995</td>\n",
              "      <td>164.475599</td>\n",
              "    </tr>\n",
              "    <tr>\n",
              "      <th>2022-03-01</th>\n",
              "      <td>164.699997</td>\n",
              "      <td>166.600006</td>\n",
              "      <td>161.970001</td>\n",
              "      <td>163.199997</td>\n",
              "      <td>164.141483</td>\n",
              "    </tr>\n",
              "    <tr>\n",
              "      <th>2022-03-02</th>\n",
              "      <td>164.389999</td>\n",
              "      <td>167.360001</td>\n",
              "      <td>162.949997</td>\n",
              "      <td>166.559998</td>\n",
              "      <td>165.731711</td>\n",
              "    </tr>\n",
              "    <tr>\n",
              "      <th>2022-03-03</th>\n",
              "      <td>168.470001</td>\n",
              "      <td>168.910004</td>\n",
              "      <td>165.550003</td>\n",
              "      <td>166.229996</td>\n",
              "      <td>166.488926</td>\n",
              "    </tr>\n",
              "    <tr>\n",
              "      <th>2022-03-04</th>\n",
              "      <td>164.490005</td>\n",
              "      <td>165.550003</td>\n",
              "      <td>162.100006</td>\n",
              "      <td>163.169998</td>\n",
              "      <td>163.451641</td>\n",
              "    </tr>\n",
              "    <tr>\n",
              "      <th>2022-03-07</th>\n",
              "      <td>163.360001</td>\n",
              "      <td>165.020004</td>\n",
              "      <td>159.039993</td>\n",
              "      <td>159.300003</td>\n",
              "      <td>161.404323</td>\n",
              "    </tr>\n",
              "    <tr>\n",
              "      <th>2022-03-08</th>\n",
              "      <td>158.820007</td>\n",
              "      <td>162.880005</td>\n",
              "      <td>155.800003</td>\n",
              "      <td>157.440002</td>\n",
              "      <td>159.939405</td>\n",
              "    </tr>\n",
              "    <tr>\n",
              "      <th>2022-03-09</th>\n",
              "      <td>161.479996</td>\n",
              "      <td>163.410004</td>\n",
              "      <td>159.410004</td>\n",
              "      <td>162.949997</td>\n",
              "      <td>161.444797</td>\n",
              "    </tr>\n",
              "    <tr>\n",
              "      <th>2022-03-10</th>\n",
              "      <td>160.199997</td>\n",
              "      <td>160.389999</td>\n",
              "      <td>155.979996</td>\n",
              "      <td>158.520004</td>\n",
              "      <td>157.037615</td>\n",
              "    </tr>\n",
              "    <tr>\n",
              "      <th>2022-03-11</th>\n",
              "      <td>158.929993</td>\n",
              "      <td>159.279999</td>\n",
              "      <td>154.500000</td>\n",
              "      <td>154.729996</td>\n",
              "      <td>155.751889</td>\n",
              "    </tr>\n",
              "    <tr>\n",
              "      <th>2022-03-14</th>\n",
              "      <td>151.449997</td>\n",
              "      <td>154.119995</td>\n",
              "      <td>150.100006</td>\n",
              "      <td>150.619995</td>\n",
              "      <td>152.611238</td>\n",
              "    </tr>\n",
              "    <tr>\n",
              "      <th>2022-03-15</th>\n",
              "      <td>150.899994</td>\n",
              "      <td>155.570007</td>\n",
              "      <td>150.380005</td>\n",
              "      <td>155.089996</td>\n",
              "      <td>154.430778</td>\n",
              "    </tr>\n",
              "    <tr>\n",
              "      <th>2022-03-16</th>\n",
              "      <td>157.050003</td>\n",
              "      <td>160.000000</td>\n",
              "      <td>154.460007</td>\n",
              "      <td>159.589996</td>\n",
              "      <td>157.522583</td>\n",
              "    </tr>\n",
              "    <tr>\n",
              "      <th>2022-03-17</th>\n",
              "      <td>158.610001</td>\n",
              "      <td>161.000000</td>\n",
              "      <td>157.630005</td>\n",
              "      <td>160.619995</td>\n",
              "      <td>159.795114</td>\n",
              "    </tr>\n",
              "    <tr>\n",
              "      <th>2022-03-18</th>\n",
              "      <td>160.509995</td>\n",
              "      <td>164.479996</td>\n",
              "      <td>159.759995</td>\n",
              "      <td>163.979996</td>\n",
              "      <td>163.246125</td>\n",
              "    </tr>\n",
              "    <tr>\n",
              "      <th>2022-03-21</th>\n",
              "      <td>163.509995</td>\n",
              "      <td>166.350006</td>\n",
              "      <td>163.009995</td>\n",
              "      <td>165.380005</td>\n",
              "      <td>165.441904</td>\n",
              "    </tr>\n",
              "    <tr>\n",
              "      <th>2022-03-22</th>\n",
              "      <td>165.509995</td>\n",
              "      <td>169.419998</td>\n",
              "      <td>164.910004</td>\n",
              "      <td>168.820007</td>\n",
              "      <td>168.300245</td>\n",
              "    </tr>\n",
              "    <tr>\n",
              "      <th>2022-03-23</th>\n",
              "      <td>167.990005</td>\n",
              "      <td>172.639999</td>\n",
              "      <td>167.649994</td>\n",
              "      <td>170.210007</td>\n",
              "      <td>171.618739</td>\n",
              "    </tr>\n",
              "    <tr>\n",
              "      <th>2022-03-24</th>\n",
              "      <td>171.059998</td>\n",
              "      <td>174.139999</td>\n",
              "      <td>170.210007</td>\n",
              "      <td>174.070007</td>\n",
              "      <td>172.931559</td>\n",
              "    </tr>\n",
              "    <tr>\n",
              "      <th>2022-03-25</th>\n",
              "      <td>173.880005</td>\n",
              "      <td>175.279999</td>\n",
              "      <td>172.750000</td>\n",
              "      <td>174.720001</td>\n",
              "      <td>174.070449</td>\n",
              "    </tr>\n",
              "    <tr>\n",
              "      <th>2022-03-28</th>\n",
              "      <td>172.169998</td>\n",
              "      <td>175.729996</td>\n",
              "      <td>172.000000</td>\n",
              "      <td>175.600006</td>\n",
              "      <td>174.968345</td>\n",
              "    </tr>\n",
              "    <tr>\n",
              "      <th>2022-03-29</th>\n",
              "      <td>176.690002</td>\n",
              "      <td>179.009995</td>\n",
              "      <td>176.339996</td>\n",
              "      <td>178.960007</td>\n",
              "      <td>178.264737</td>\n",
              "    </tr>\n",
              "    <tr>\n",
              "      <th>2022-03-30</th>\n",
              "      <td>178.550003</td>\n",
              "      <td>179.610001</td>\n",
              "      <td>176.699997</td>\n",
              "      <td>177.770004</td>\n",
              "      <td>177.899663</td>\n",
              "    </tr>\n",
              "    <tr>\n",
              "      <th>2022-03-31</th>\n",
              "      <td>177.839996</td>\n",
              "      <td>178.029999</td>\n",
              "      <td>174.399994</td>\n",
              "      <td>174.610001</td>\n",
              "      <td>175.241088</td>\n",
              "    </tr>\n",
              "    <tr>\n",
              "      <th>2022-04-01</th>\n",
              "      <td>174.029999</td>\n",
              "      <td>174.880005</td>\n",
              "      <td>171.940002</td>\n",
              "      <td>174.309998</td>\n",
              "      <td>173.021708</td>\n",
              "    </tr>\n",
              "    <tr>\n",
              "      <th>2022-04-04</th>\n",
              "      <td>174.570007</td>\n",
              "      <td>178.490005</td>\n",
              "      <td>174.440002</td>\n",
              "      <td>178.440002</td>\n",
              "      <td>177.710269</td>\n",
              "    </tr>\n",
              "    <tr>\n",
              "      <th>2022-04-05</th>\n",
              "      <td>177.500000</td>\n",
              "      <td>178.300003</td>\n",
              "      <td>174.419998</td>\n",
              "      <td>175.059998</td>\n",
              "      <td>175.703884</td>\n",
              "    </tr>\n",
              "    <tr>\n",
              "      <th>2022-04-06</th>\n",
              "      <td>172.360001</td>\n",
              "      <td>173.630005</td>\n",
              "      <td>170.130005</td>\n",
              "      <td>171.830002</td>\n",
              "      <td>171.616045</td>\n",
              "    </tr>\n",
              "    <tr>\n",
              "      <th>2022-04-07</th>\n",
              "      <td>171.160004</td>\n",
              "      <td>173.360001</td>\n",
              "      <td>169.850006</td>\n",
              "      <td>172.139999</td>\n",
              "      <td>171.918240</td>\n",
              "    </tr>\n",
              "    <tr>\n",
              "      <th>2022-04-08</th>\n",
              "      <td>171.779999</td>\n",
              "      <td>171.779999</td>\n",
              "      <td>169.199997</td>\n",
              "      <td>170.089996</td>\n",
              "      <td>169.664805</td>\n",
              "    </tr>\n",
              "    <tr>\n",
              "      <th>2022-04-11</th>\n",
              "      <td>168.710007</td>\n",
              "      <td>169.029999</td>\n",
              "      <td>165.500000</td>\n",
              "      <td>165.750000</td>\n",
              "      <td>166.406914</td>\n",
              "    </tr>\n",
              "    <tr>\n",
              "      <th>2022-04-12</th>\n",
              "      <td>168.020004</td>\n",
              "      <td>169.869995</td>\n",
              "      <td>166.639999</td>\n",
              "      <td>167.660004</td>\n",
              "      <td>168.423447</td>\n",
              "    </tr>\n",
              "    <tr>\n",
              "      <th>2022-04-13</th>\n",
              "      <td>167.389999</td>\n",
              "      <td>171.039993</td>\n",
              "      <td>166.770004</td>\n",
              "      <td>170.399994</td>\n",
              "      <td>169.935899</td>\n",
              "    </tr>\n",
              "    <tr>\n",
              "      <th>2022-04-14</th>\n",
              "      <td>170.619995</td>\n",
              "      <td>171.270004</td>\n",
              "      <td>165.039993</td>\n",
              "      <td>165.289993</td>\n",
              "      <td>166.831194</td>\n",
              "    </tr>\n",
              "    <tr>\n",
              "      <th>2022-04-18</th>\n",
              "      <td>163.919998</td>\n",
              "      <td>166.600006</td>\n",
              "      <td>163.570007</td>\n",
              "      <td>165.070007</td>\n",
              "      <td>165.823742</td>\n",
              "    </tr>\n",
              "    <tr>\n",
              "      <th>2022-04-19</th>\n",
              "      <td>165.020004</td>\n",
              "      <td>167.820007</td>\n",
              "      <td>163.910004</td>\n",
              "      <td>167.399994</td>\n",
              "      <td>166.459150</td>\n",
              "    </tr>\n",
              "    <tr>\n",
              "      <th>2022-04-20</th>\n",
              "      <td>168.759995</td>\n",
              "      <td>168.880005</td>\n",
              "      <td>166.100006</td>\n",
              "      <td>167.229996</td>\n",
              "      <td>166.693281</td>\n",
              "    </tr>\n",
              "    <tr>\n",
              "      <th>2022-04-21</th>\n",
              "      <td>168.910004</td>\n",
              "      <td>171.529999</td>\n",
              "      <td>165.910004</td>\n",
              "      <td>166.419998</td>\n",
              "      <td>168.774279</td>\n",
              "    </tr>\n",
              "    <tr>\n",
              "      <th>2022-04-22</th>\n",
              "      <td>166.460007</td>\n",
              "      <td>167.869995</td>\n",
              "      <td>161.500000</td>\n",
              "      <td>161.789993</td>\n",
              "      <td>163.803777</td>\n",
              "    </tr>\n",
              "    <tr>\n",
              "      <th>2022-04-25</th>\n",
              "      <td>161.119995</td>\n",
              "      <td>163.169998</td>\n",
              "      <td>158.460007</td>\n",
              "      <td>162.880005</td>\n",
              "      <td>160.748951</td>\n",
              "    </tr>\n",
              "  </tbody>\n",
              "</table>\n",
              "</div>\n",
              "      <button class=\"colab-df-convert\" onclick=\"convertToInteractive('df-482d6e10-eac1-4708-9421-72e21a11d550')\"\n",
              "              title=\"Convert this dataframe to an interactive table.\"\n",
              "              style=\"display:none;\">\n",
              "        \n",
              "  <svg xmlns=\"http://www.w3.org/2000/svg\" height=\"24px\"viewBox=\"0 0 24 24\"\n",
              "       width=\"24px\">\n",
              "    <path d=\"M0 0h24v24H0V0z\" fill=\"none\"/>\n",
              "    <path d=\"M18.56 5.44l.94 2.06.94-2.06 2.06-.94-2.06-.94-.94-2.06-.94 2.06-2.06.94zm-11 1L8.5 8.5l.94-2.06 2.06-.94-2.06-.94L8.5 2.5l-.94 2.06-2.06.94zm10 10l.94 2.06.94-2.06 2.06-.94-2.06-.94-.94-2.06-.94 2.06-2.06.94z\"/><path d=\"M17.41 7.96l-1.37-1.37c-.4-.4-.92-.59-1.43-.59-.52 0-1.04.2-1.43.59L10.3 9.45l-7.72 7.72c-.78.78-.78 2.05 0 2.83L4 21.41c.39.39.9.59 1.41.59.51 0 1.02-.2 1.41-.59l7.78-7.78 2.81-2.81c.8-.78.8-2.07 0-2.86zM5.41 20L4 18.59l7.72-7.72 1.47 1.35L5.41 20z\"/>\n",
              "  </svg>\n",
              "      </button>\n",
              "      \n",
              "  <style>\n",
              "    .colab-df-container {\n",
              "      display:flex;\n",
              "      flex-wrap:wrap;\n",
              "      gap: 12px;\n",
              "    }\n",
              "\n",
              "    .colab-df-convert {\n",
              "      background-color: #E8F0FE;\n",
              "      border: none;\n",
              "      border-radius: 50%;\n",
              "      cursor: pointer;\n",
              "      display: none;\n",
              "      fill: #1967D2;\n",
              "      height: 32px;\n",
              "      padding: 0 0 0 0;\n",
              "      width: 32px;\n",
              "    }\n",
              "\n",
              "    .colab-df-convert:hover {\n",
              "      background-color: #E2EBFA;\n",
              "      box-shadow: 0px 1px 2px rgba(60, 64, 67, 0.3), 0px 1px 3px 1px rgba(60, 64, 67, 0.15);\n",
              "      fill: #174EA6;\n",
              "    }\n",
              "\n",
              "    [theme=dark] .colab-df-convert {\n",
              "      background-color: #3B4455;\n",
              "      fill: #D2E3FC;\n",
              "    }\n",
              "\n",
              "    [theme=dark] .colab-df-convert:hover {\n",
              "      background-color: #434B5C;\n",
              "      box-shadow: 0px 1px 3px 1px rgba(0, 0, 0, 0.15);\n",
              "      filter: drop-shadow(0px 1px 2px rgba(0, 0, 0, 0.3));\n",
              "      fill: #FFFFFF;\n",
              "    }\n",
              "  </style>\n",
              "\n",
              "      <script>\n",
              "        const buttonEl =\n",
              "          document.querySelector('#df-482d6e10-eac1-4708-9421-72e21a11d550 button.colab-df-convert');\n",
              "        buttonEl.style.display =\n",
              "          google.colab.kernel.accessAllowed ? 'block' : 'none';\n",
              "\n",
              "        async function convertToInteractive(key) {\n",
              "          const element = document.querySelector('#df-482d6e10-eac1-4708-9421-72e21a11d550');\n",
              "          const dataTable =\n",
              "            await google.colab.kernel.invokeFunction('convertToInteractive',\n",
              "                                                     [key], {});\n",
              "          if (!dataTable) return;\n",
              "\n",
              "          const docLinkHtml = 'Like what you see? Visit the ' +\n",
              "            '<a target=\"_blank\" href=https://colab.research.google.com/notebooks/data_table.ipynb>data table notebook</a>'\n",
              "            + ' to learn more about interactive tables.';\n",
              "          element.innerHTML = '';\n",
              "          dataTable['output_type'] = 'display_data';\n",
              "          await google.colab.output.renderOutput(dataTable, element);\n",
              "          const docLink = document.createElement('div');\n",
              "          docLink.innerHTML = docLinkHtml;\n",
              "          element.appendChild(docLink);\n",
              "        }\n",
              "      </script>\n",
              "    </div>\n",
              "  </div>\n",
              "  "
            ]
          },
          "metadata": {},
          "execution_count": 26
        }
      ]
    },
    {
      "cell_type": "code",
      "source": [
        "import matplotlib\n",
        "import matplotlib.pyplot as plt\n",
        "\n",
        "test_df[\"Actual\"].plot(figsize=(16, 8))\n",
        "test_df[\"Prediction\"].plot()\n",
        "\n",
        "# Define the label for the title of the figure\n",
        "plt.title(\"Actual and Predicted Price for APPL\")\n",
        "\n",
        "# Define labels for x-axis and y-axis\n",
        "plt.xlabel(\"Date\")\n",
        "plt.ylabel(\"Price\")\n",
        "\n",
        "# Show legends\n",
        "plt.legend()\n",
        "\n",
        "# Plot the grid lines\n",
        "plt.grid(which=\"major\", color='k', linestyle='-.', linewidth=0.5)\n",
        "\n",
        "# Show the plot\n",
        "plt.show()"
      ],
      "metadata": {
        "colab": {
          "base_uri": "https://localhost:8080/",
          "height": 513
        },
        "id": "ge-TgNIB9-MN",
        "outputId": "41623c8c-8a78-4b8a-ac63-490b4c397f11"
      },
      "execution_count": 27,
      "outputs": [
        {
          "output_type": "display_data",
          "data": {
            "text/plain": [
              "<Figure size 1152x576 with 1 Axes>"
            ],
            "image/png": "[encoded data removed]"
          },
          "metadata": {
            "needs_background": "light"
          }
        }
      ]
    },
    {
      "cell_type": "code",
      "source": [
        "X_train.shape"
      ],
      "metadata": {
        "colab": {
          "base_uri": "https://localhost:8080/"
        },
        "id": "GDY0Bsnay5cy",
        "outputId": "ca8fef94-9041-4693-8526-33a7e28511aa"
      },
      "execution_count": 20,
      "outputs": [
        {
          "output_type": "execute_result",
          "data": {
            "text/plain": [
              "(2863, 3)"
            ]
          },
          "metadata": {},
          "execution_count": 20
        }
      ]
    }
  ]
}